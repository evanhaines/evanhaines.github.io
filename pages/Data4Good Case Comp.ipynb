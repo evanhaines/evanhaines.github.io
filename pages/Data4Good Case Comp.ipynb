{
 "cells": [
  {
   "cell_type": "code",
   "execution_count": 302,
   "metadata": {
    "colab": {
     "base_uri": "https://localhost:8080/"
    },
    "id": "0mYaniAVGf_Z",
    "outputId": "7fb0bb81-9bf3-425a-d1a7-8acae8e948b4"
   },
   "outputs": [
    {
     "name": "stdout",
     "output_type": "stream",
     "text": [
      "Requirement already satisfied: predictionguard in c:\\users\\evhai\\anaconda3\\lib\\site-packages (2.5.0)\n",
      "Requirement already satisfied: tabulate>=0.8.10 in c:\\users\\evhai\\anaconda3\\lib\\site-packages (from predictionguard) (0.9.0)\n",
      "Requirement already satisfied: requests>=2.27.1 in c:\\users\\evhai\\anaconda3\\lib\\site-packages (from predictionguard) (2.32.2)\n",
      "Requirement already satisfied: charset-normalizer<4,>=2 in c:\\users\\evhai\\anaconda3\\lib\\site-packages (from requests>=2.27.1->predictionguard) (2.0.4)\n",
      "Requirement already satisfied: idna<4,>=2.5 in c:\\users\\evhai\\anaconda3\\lib\\site-packages (from requests>=2.27.1->predictionguard) (3.7)\n",
      "Requirement already satisfied: urllib3<3,>=1.21.1 in c:\\users\\evhai\\anaconda3\\lib\\site-packages (from requests>=2.27.1->predictionguard) (2.2.2)\n",
      "Requirement already satisfied: certifi>=2017.4.17 in c:\\users\\evhai\\anaconda3\\lib\\site-packages (from requests>=2.27.1->predictionguard) (2024.8.30)\n"
     ]
    }
   ],
   "source": [
    "! pip install predictionguard"
   ]
  },
  {
   "cell_type": "code",
   "execution_count": 303,
   "metadata": {
    "id": "uTGNQhl9GzLx"
   },
   "outputs": [],
   "source": [
    "import os\n",
    "import random\n",
    "\n",
    "from predictionguard import PredictionGuard\n",
    "from getpass import getpass\n",
    "import pandas as pd"
   ]
  },
  {
   "cell_type": "code",
   "execution_count": 304,
   "metadata": {
    "colab": {
     "base_uri": "https://localhost:8080/"
    },
    "id": "HIZ3ma9yG3dt",
    "outputId": "35fbf310-aa44-4d52-d127-b8ee9fc090e0"
   },
   "outputs": [],
   "source": [
    "pg_access_token = getpass('Enter your Prediction Guard access api key: ')\n",
    "os.environ['PREDICTIONGUARD_API_KEY'] = pg_access_token"
   ]
  },
  {
   "cell_type": "code",
   "execution_count": 305,
   "metadata": {
    "id": "Z633zmn8G69i"
   },
   "outputs": [],
   "source": [
    "client = PredictionGuard()"
   ]
  },
  {
   "cell_type": "markdown",
   "metadata": {
    "id": "SfSkBYF2HY_F"
   },
   "source": [
    "# Load data"
   ]
  },
  {
   "cell_type": "code",
   "execution_count": 306,
   "metadata": {
    "id": "zYq4NyM3Hd37"
   },
   "outputs": [],
   "source": [
    "data = pd.read_csv('C:/Users/evhai/OneDrive/test.csv')"
   ]
  },
  {
   "cell_type": "code",
   "execution_count": 307,
   "metadata": {
    "colab": {
     "base_uri": "https://localhost:8080/",
     "height": 806
    },
    "id": "kAOb6h4SIBDQ",
    "outputId": "514d0b4e-d31a-44b3-b4ad-064d267f34fd"
   },
   "outputs": [
    {
     "data": {
      "text/plain": [
       "Id     a2c83973-8e81-45c9-bb84-37fa8a8b637c\n",
       "q1                                        3\n",
       "q2                                      NaN\n",
       "q3                                        0\n",
       "q4                                        1\n",
       "q5                                        1\n",
       "q6                                        1\n",
       "q7                                        4\n",
       "q8                                        4\n",
       "q9                                        1\n",
       "q10                                       0\n",
       "q11                                       3\n",
       "q12                                       2\n",
       "q13                                       0\n",
       "q14                                       3\n",
       "q15                                       1\n",
       "q16                                       1\n",
       "q17                                       0\n",
       "q18                                       0\n",
       "q19                                       0\n",
       "q20                                       0\n",
       "q21                                     NaN\n",
       "q22                                     NaN\n",
       "Name: 0, dtype: object"
      ]
     },
     "execution_count": 307,
     "metadata": {},
     "output_type": "execute_result"
    }
   ],
   "source": [
    "data.loc[0]\n"
   ]
  },
  {
   "cell_type": "code",
   "execution_count": 308,
   "metadata": {
    "id": "f5Xepy8YIX2e"
   },
   "outputs": [],
   "source": [
    "questions = {\n",
    " 'q1': 'Please share all of the reasons you chose to attend a TAPS seminar.',\n",
    " 'q2': 'How did you find out about the TAPS seminar?',\n",
    " 'q3': 'This seminar helped me to feel socially connected',\n",
    " 'q4': 'This seminar taught me new ways to cope with my grief',\n",
    " 'q5': 'This seminar helped me to better understand my grief',\n",
    " 'q6': 'This seminar has given me hope for the future',\n",
    " 'q7': 'Based on your experience at the TAPS seminar, how likely are you to continue to connect with TAPS virtually / at in-person programs?',\n",
    " 'q8': 'Based on your experience at the TAPS seminar, how likely are you to continue to bring your child(ren) to connect with TAPS at in-person programs?',\n",
    " 'q9': 'Rate your level of agreement: I have a positive outlook toward life',\n",
    " 'q10': 'Rate your level of agreement: I have short and/or long range goals',\n",
    " 'q11': 'Rate your level of agreement: I feel all alone',\n",
    " 'q12': 'Rate your level of agreement: I can see possibilities in the midst of difficulties',\n",
    " 'q13': 'Rate your level of agreement: I have faith that gives me comfort',\n",
    " 'q14': 'Rate your level of agreement: I feel scared about my future',\n",
    " 'q15': 'Rate your level of agreement: I can recall happy/joyful times',\n",
    " 'q16': 'Rate your level of agreement: I have deep inner strength',\n",
    " 'q17': 'Rate your level of agreement: I am able to give and receive care/love',\n",
    " 'q18': 'Rate your level of agreement: I have a sense of direction',\n",
    " 'q19': 'Rate your level of agreement: I believe that each day has potential',\n",
    " 'q20': 'Rate your level of agreement: I feel my life has value and worth',\n",
    " 'q21': 'Please share with TAPS your favorite moment of the weekend? Did you have a breakthrough moment this weekend you would like to share?',\n",
    " 'q22': 'Please share any additional feedback you have regarding your TAPS Seminar experience.'\n",
    "}"
   ]
  },
  {
   "cell_type": "code",
   "execution_count": 309,
   "metadata": {
    "id": "drzgCcYaJTmZ"
   },
   "outputs": [],
   "source": [
    "rating_reference = {\n",
    "    0: \"Extremely likely / Very likely\",\n",
    "    1: \"Somewhat likely\",\n",
    "    2: \"Neither likely nor unlikely / Neutral\",\n",
    "    3: \"Somewhat unlikely\",\n",
    "    4: \"Extremely unlikely / Not at all likely\"\n",
    "}"
   ]
  },
  {
   "cell_type": "markdown",
   "metadata": {
    "id": "92HVyfr5HC8r"
   },
   "source": [
    "# Basic prompting/ prompt engineering: Label directly"
   ]
  },
  {
   "cell_type": "code",
   "execution_count": 310,
   "metadata": {
    "id": "V6Y-bwxOHCQ-"
   },
   "outputs": [],
   "source": [
    "prompt = \"\"\"Below are a set of answers to questions from a survey of people going through a grief journey after losing a family member.\n",
    "Classify the person that answered these questions into one of the following categories representing where they are in their grief journey:\n",
    "\n",
    "1. \"Immediate Grief, Shock & Emotion\"\n",
    "2. \"Navigating Family Relationships\"\n",
    "3. \"Learning to Process Grief\"\n",
    "4. \"Moments That Matter\"\n",
    "5. \"Feeling Immersed, Connected & Seen\"\n",
    "6. \"New Growth & Purpose\"\n",
    "\n",
    "Respond with a number representing the appropriate category. Respond with only the number and no other text.\n",
    "\n",
    "Answers to survey questions:\n",
    "{qanda}\n",
    "\n",
    "Category number:\n",
    "\"\"\""
   ]
  },
  {
   "cell_type": "code",
   "execution_count": 311,
   "metadata": {
    "id": "81jfJkCYKhZ1"
   },
   "outputs": [],
   "source": [
    "survey_num = 0\n",
    "qanda = \"\"\n",
    "for i in range(9, 21):\n",
    "  qanda += questions[f'q{i}'].split('agreement: ')[-1] + \": \" + rating_reference[data.loc[survey_num][f'q{i}']] + \"\\n\"\n",
    "qanda = qanda.strip()"
   ]
  },
  {
   "cell_type": "code",
   "execution_count": 312,
   "metadata": {
    "colab": {
     "base_uri": "https://localhost:8080/"
    },
    "id": "K8YzvSwxKx4w",
    "outputId": "418a3e0e-4e7d-4f0e-ea0a-79120c43b574"
   },
   "outputs": [
    {
     "name": "stdout",
     "output_type": "stream",
     "text": [
      "Below are a set of answers to questions from a survey of people going through a grief journey after losing a family member.\n",
      "Classify the person that answered these questions into one of the following categories representing where they are in their grief journey:\n",
      "\n",
      "1. \"Immediate Grief, Shock & Emotion\"\n",
      "2. \"Navigating Family Relationships\"\n",
      "3. \"Learning to Process Grief\"\n",
      "4. \"Moments That Matter\"\n",
      "5. \"Feeling Immersed, Connected & Seen\"\n",
      "6. \"New Growth & Purpose\"\n",
      "\n",
      "Respond with a number representing the appropriate category. Respond with only the number and no other text.\n",
      "\n",
      "Answers to survey questions:\n",
      "I have a positive outlook toward life: Somewhat likely\n",
      "I have short and/or long range goals: Extremely likely / Very likely\n",
      "I feel all alone: Somewhat unlikely\n",
      "I can see possibilities in the midst of difficulties: Neither likely nor unlikely / Neutral\n",
      "I have faith that gives me comfort: Extremely likely / Very likely\n",
      "I feel scared about my future: Somewhat unlikely\n",
      "I can recall happy/joyful times: Somewhat likely\n",
      "I have deep inner strength: Somewhat likely\n",
      "I am able to give and receive care/love: Extremely likely / Very likely\n",
      "I have a sense of direction: Extremely likely / Very likely\n",
      "I believe that each day has potential: Extremely likely / Very likely\n",
      "I feel my life has value and worth: Extremely likely / Very likely\n",
      "\n",
      "Category number:\n",
      "\n"
     ]
    }
   ],
   "source": [
    "print(prompt.format(qanda=qanda))"
   ]
  },
  {
   "cell_type": "code",
   "execution_count": 313,
   "metadata": {
    "colab": {
     "base_uri": "https://localhost:8080/",
     "height": 35
    },
    "id": "9VI6iNdtK1qS",
    "outputId": "4c1967b0-3619-4a5d-bf89-ab5fe85a1f8c"
   },
   "outputs": [
    {
     "data": {
      "text/plain": [
       "'5'"
      ]
     },
     "execution_count": 313,
     "metadata": {},
     "output_type": "execute_result"
    }
   ],
   "source": [
    "messages = [\n",
    "    {\n",
    "        \"role\": \"user\",\n",
    "        \"content\": prompt.format(qanda=qanda)\n",
    "    }\n",
    "]\n",
    "\n",
    "result = client.chat.completions.create(\n",
    "    model=\"Hermes-2-Pro-Llama-3-8B\",\n",
    "    messages=messages,\n",
    "    max_tokens=1000\n",
    ")\n",
    "result['choices'][0]['message']['content']"
   ]
  },
  {
   "cell_type": "markdown",
   "metadata": {
    "id": "Dco1umJKLi3D"
   },
   "source": [
    "# Data augmentation: Inject definitions\n",
    "\n",
    "---\n",
    "\n"
   ]
  },
  {
   "cell_type": "code",
   "execution_count": 314,
   "metadata": {
    "id": "gyD8mbegLbQI"
   },
   "outputs": [],
   "source": [
    "journey_map = {\n",
    "    \"Immediate Grief, Shock & Emotion\": {\n",
    "        \"number\": 1,\n",
    "        \"description\": \"Overwhelmed, loss of purpose; shock and trauma emotions (isolation) present and challenging to understand. Individuals may struggle to deal with family responsibilities alone. Surviving Child: Feeling disconnected without guidance and attention from grieving adults.\",\n",
    "        \"support_elements\": \"Mission critical. 24/7 National Military Survivor Helpline. Ongoing Survivor Care Team.\"\n",
    "    },\n",
    "    \"Navigating Family Relationships\": {\n",
    "        \"number\": 2,\n",
    "        \"description\": \"Experiencing tension between individuals within the family unit; lack of support from family members. Surviving Family Unit: Perception of other family members’ grief experience. Each family member may be at different phases of their grief journey.\",\n",
    "        \"support_elements\": \"Guidance & Acknowledgement. Catered resources.\"\n",
    "    },\n",
    "    \"Learning to Process Grief\": {\n",
    "        \"number\": 3,\n",
    "        \"description\": \"Experiencing grief and learning to process those emotions. Surviving Child: Seeks guidance and acknowledgment of grief; benefit from opportunities to open up and process with kids in similar situations to normalize emotions.\",\n",
    "        \"support_elements\": \"Community support. Safe space to process emotions.\"\n",
    "    },\n",
    "    \"Moments That Matter\": {\n",
    "        \"number\": 4,\n",
    "        \"description\": \"Renewed experience of grief around anniversaries of loss, holidays, and special moments. Surviving Family Unit: Navigating special moments (sports, school achievements, moments that matter).\",\n",
    "        \"support_elements\": \"Continued grief support.\"\n",
    "    },\n",
    "    \"Feeling Immersed, Connected & Seen\": {\n",
    "        \"number\": 5,\n",
    "        \"description\": \"Finding new purpose and goals to begin moving towards Positive Integration. Surviving Family Unit: Connected to a broader community; support system; not the only person/family experiencing loss.\",\n",
    "        \"support_elements\": \"Maintain community. Safe space to process emotions.\"\n",
    "    },\n",
    "    \"New Growth & Purpose\": {\n",
    "        \"number\": 6,\n",
    "        \"description\": \"Healthy point in grief journey; feeling capable to help others and a desire to do so. Surviving Family Unit: Ready to give back to the TAPS community through mentorship programs, volunteering at charity drives & events, etc.\",\n",
    "        \"support_elements\": \"Maintain family connection/healing. Desire to support others.\"\n",
    "    }\n",
    "}"
   ]
  },
  {
   "cell_type": "code",
   "execution_count": 315,
   "metadata": {
    "id": "y90ga6MYLpQN"
   },
   "outputs": [],
   "source": [
    "prompt = \"\"\"Below are a set of answers to questions from a survey of people going through a grief journey after losing a family member.\n",
    "Classify the person that answered these questions into one of the following categories representing where they are in their grief journey:\n",
    "\n",
    "{categories}\n",
    "\n",
    "Respond with a number representing the appropriate category. Respond with only the number and no other text.\n",
    "\n",
    "Answers to survey questions:\n",
    "{qanda}\n",
    "\n",
    "Category number:\n",
    "\"\"\""
   ]
  },
  {
   "cell_type": "code",
   "execution_count": 316,
   "metadata": {
    "colab": {
     "base_uri": "https://localhost:8080/"
    },
    "id": "1yffEpllLxnC",
    "outputId": "801bade6-3014-4cac-c71c-4321de3db66f"
   },
   "outputs": [
    {
     "name": "stdout",
     "output_type": "stream",
     "text": [
      "1. Immediate Grief, Shock & Emotion:Overwhelmed, loss of purpose; shock and trauma emotions (isolation) present and challenging to understand. Individuals may struggle to deal with family responsibilities alone. Surviving Child: Feeling disconnected without guidance and attention from grieving adults.\n",
      "2. Navigating Family Relationships:Experiencing tension between individuals within the family unit; lack of support from family members. Surviving Family Unit: Perception of other family members’ grief experience. Each family member may be at different phases of their grief journey.\n",
      "3. Learning to Process Grief:Experiencing grief and learning to process those emotions. Surviving Child: Seeks guidance and acknowledgment of grief; benefit from opportunities to open up and process with kids in similar situations to normalize emotions.\n",
      "4. Moments That Matter:Renewed experience of grief around anniversaries of loss, holidays, and special moments. Surviving Family Unit: Navigating special moments (sports, school achievements, moments that matter).\n",
      "5. Feeling Immersed, Connected & Seen:Finding new purpose and goals to begin moving towards Positive Integration. Surviving Family Unit: Connected to a broader community; support system; not the only person/family experiencing loss.\n",
      "6. New Growth & Purpose:Healthy point in grief journey; feeling capable to help others and a desire to do so. Surviving Family Unit: Ready to give back to the TAPS community through mentorship programs, volunteering at charity drives & events, etc.\n"
     ]
    }
   ],
   "source": [
    "categories = \"\"\n",
    "for stage in journey_map:\n",
    "  categories += f\"{journey_map[stage]['number']}. {stage}:\" + journey_map[stage]['description'] + \"\\n\"\n",
    "categories = categories.strip()\n",
    "print(categories)"
   ]
  },
  {
   "cell_type": "code",
   "execution_count": 317,
   "metadata": {
    "colab": {
     "base_uri": "https://localhost:8080/",
     "height": 35
    },
    "id": "Prq2kAq4L4Vb",
    "outputId": "d6e5e0b2-58da-4931-deeb-a544ac5ce331"
   },
   "outputs": [
    {
     "data": {
      "text/plain": [
       "'5'"
      ]
     },
     "execution_count": 317,
     "metadata": {},
     "output_type": "execute_result"
    }
   ],
   "source": [
    "messages = [\n",
    "    {\n",
    "        \"role\": \"user\",\n",
    "        \"content\": prompt.format(\n",
    "            categories=categories,\n",
    "            qanda=qanda\n",
    "        )\n",
    "    }\n",
    "]\n",
    "\n",
    "result = client.chat.completions.create(\n",
    "    model=\"Hermes-2-Pro-Llama-3-8B\",\n",
    "    messages=messages,\n",
    "    max_tokens=1000\n",
    ")\n",
    "result['choices'][0]['message']['content']"
   ]
  },
  {
   "cell_type": "markdown",
   "metadata": {
    "id": "ORYXA85UMLsj"
   },
   "source": [
    "# Chaining + Augmentation: Summarize then categorize"
   ]
  },
  {
   "cell_type": "code",
   "execution_count": 318,
   "metadata": {
    "id": "EIc-WYHjMJGj"
   },
   "outputs": [],
   "source": [
    "survey_num = 0\n",
    "\n",
    "qanda = \"\"\n",
    "for i in range(9, 21):\n",
    "  qanda += questions[f'q{i}'].split('agreement: ')[-1] + \": \" + rating_reference[data.loc[survey_num][f'q{i}']] + \"\\n\"\n",
    "for i in range(21, 23):\n",
    "  qanda += questions[f'q{i}'] + \": \" + str(data.loc[survey_num][f'q{i}'])\n",
    "qanda = qanda.strip()"
   ]
  },
  {
   "cell_type": "code",
   "execution_count": 319,
   "metadata": {
    "colab": {
     "base_uri": "https://localhost:8080/"
    },
    "id": "iVgSGF2eMfhe",
    "outputId": "32f7f8cf-e10e-4faf-b3e1-98ee68a5b183"
   },
   "outputs": [
    {
     "name": "stdout",
     "output_type": "stream",
     "text": [
      "I have a positive outlook toward life: Somewhat likely\n",
      "I have short and/or long range goals: Extremely likely / Very likely\n",
      "I feel all alone: Somewhat unlikely\n",
      "I can see possibilities in the midst of difficulties: Neither likely nor unlikely / Neutral\n",
      "I have faith that gives me comfort: Extremely likely / Very likely\n",
      "I feel scared about my future: Somewhat unlikely\n",
      "I can recall happy/joyful times: Somewhat likely\n",
      "I have deep inner strength: Somewhat likely\n",
      "I am able to give and receive care/love: Extremely likely / Very likely\n",
      "I have a sense of direction: Extremely likely / Very likely\n",
      "I believe that each day has potential: Extremely likely / Very likely\n",
      "I feel my life has value and worth: Extremely likely / Very likely\n",
      "Please share with TAPS your favorite moment of the weekend? Did you have a breakthrough moment this weekend you would like to share?: nanPlease share any additional feedback you have regarding your TAPS Seminar experience.: nan\n"
     ]
    }
   ],
   "source": [
    "print(qanda)"
   ]
  },
  {
   "cell_type": "code",
   "execution_count": 320,
   "metadata": {
    "id": "KYDj3X1wMlh_"
   },
   "outputs": [],
   "source": [
    "prompt = \"\"\"Below are a set of answers to questions from a survey of people going through a grief journey after losing a family member.\n",
    "Summarize the current state of grief of the person that answered these questions in a few sentences.\n",
    "\n",
    "Answers to survey questions:\n",
    "{qanda}\n",
    "\n",
    "Summarize of the state of grief:\n",
    "\"\"\""
   ]
  },
  {
   "cell_type": "code",
   "execution_count": 321,
   "metadata": {
    "colab": {
     "base_uri": "https://localhost:8080/",
     "height": 70
    },
    "id": "D9XpJ3ECM45B",
    "outputId": "de15d86f-2435-4992-ac15-122b868963ae"
   },
   "outputs": [
    {
     "data": {
      "text/plain": [
       "'The person answering these questions seems to be in a moderately stable and hopeful state of grief. They have positive outlooks on life and have strong goals both short and long-term. The respondent seems to have a sense of inner strength and faith that provides comfort, along with a belief in the value and worth of their life. Despite some feelings of being alone, the individual feels capable of giving and receiving love, and they believe that each day has potential. The person appears to be moving forward through their grief journey and finding some hope in the midst of their challenges.'"
      ]
     },
     "execution_count": 321,
     "metadata": {},
     "output_type": "execute_result"
    }
   ],
   "source": [
    "messages = [\n",
    "    {\n",
    "        \"role\": \"user\",\n",
    "        \"content\": prompt.format(\n",
    "            qanda=qanda\n",
    "        )\n",
    "    }\n",
    "]\n",
    "\n",
    "result = client.chat.completions.create(\n",
    "    model=\"Hermes-2-Pro-Llama-3-8B\",\n",
    "    messages=messages,\n",
    "    max_tokens=1000\n",
    ")\n",
    "summary = result['choices'][0]['message']['content']\n",
    "summary"
   ]
  },
  {
   "cell_type": "code",
   "execution_count": 322,
   "metadata": {
    "id": "uiLRt0neM_Jx"
   },
   "outputs": [],
   "source": [
    "prompt = \"\"\"Below is a summary of the state of a person going through a grief journey after losing a family member.\n",
    "Classify the person that answered these questions into one of the following categories representing where they are in their grief journey:\n",
    "\n",
    "{categories}\n",
    "\n",
    "Respond with a number representing the appropriate category. Respond with only the number and no other text.\n",
    "\n",
    "Summary of the particular person's state:\n",
    "{summary}\n",
    "\n",
    "Category number:\n",
    "\"\"\""
   ]
  },
  {
   "cell_type": "code",
   "execution_count": 323,
   "metadata": {
    "colab": {
     "base_uri": "https://localhost:8080/",
     "height": 35
    },
    "id": "0L4wgo3GNWk8",
    "outputId": "5a8170fb-d15d-4fba-aa26-22979fa33318"
   },
   "outputs": [
    {
     "data": {
      "text/plain": [
       "'4'"
      ]
     },
     "execution_count": 323,
     "metadata": {},
     "output_type": "execute_result"
    }
   ],
   "source": [
    "messages = [\n",
    "    {\n",
    "        \"role\": \"user\",\n",
    "        \"content\": prompt.format(\n",
    "            categories=categories,\n",
    "            summary=summary\n",
    "        )\n",
    "    }\n",
    "]\n",
    "\n",
    "result = client.chat.completions.create(\n",
    "    model=\"Hermes-2-Pro-Llama-3-8B\",\n",
    "    messages=messages,\n",
    "    max_tokens=1000\n",
    ")\n",
    "result['choices'][0]['message']['content']"
   ]
  }
 ],
 "metadata": {
  "colab": {
   "provenance": []
  },
  "kernelspec": {
   "display_name": "base",
   "language": "python",
   "name": "python3"
  },
  "language_info": {
   "codemirror_mode": {
    "name": "ipython",
    "version": 3
   },
   "file_extension": ".py",
   "mimetype": "text/x-python",
   "name": "python",
   "nbconvert_exporter": "python",
   "pygments_lexer": "ipython3",
   "version": "3.12.4"
  }
 },
 "nbformat": 4,
 "nbformat_minor": 4
}
